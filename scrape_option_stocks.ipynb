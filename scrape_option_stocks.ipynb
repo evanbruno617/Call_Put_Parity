{
 "cells": [
  {
   "cell_type": "code",
   "execution_count": 60,
   "id": "ad047c47",
   "metadata": {},
   "outputs": [],
   "source": [
    "# import dependencies \n",
    "import pandas as pd\n",
    "from splinter import Browser\n",
    "from bs4 import BeautifulSoup as soup\n",
    "import pandas as pd\n",
    "import datetime as dt\n",
    "from webdriver_manager.chrome import ChromeDriverManager\n",
    "import time\n",
    "import numpy as np\n",
    "import os\n",
    "import random"
   ]
  },
  {
   "cell_type": "code",
   "execution_count": 61,
   "id": "5e01bbc8",
   "metadata": {},
   "outputs": [
    {
     "name": "stderr",
     "output_type": "stream",
     "text": [
      "\n",
      "\n",
      "====== WebDriver manager ======\n",
      "Current google-chrome version is 109.0.5414\n",
      "Get LATEST chromedriver version for 109.0.5414 google-chrome\n",
      "Driver [/Users/evanbruno/.wdm/drivers/chromedriver/mac64/109.0.5414.74/chromedriver] found in cache\n"
     ]
    }
   ],
   "source": [
    "# open browser\n",
    "executable_path = {'executable_path': ChromeDriverManager().install()}\n",
    "browser = Browser('chrome', **executable_path, headless=False)"
   ]
  },
  {
   "cell_type": "code",
   "execution_count": 62,
   "id": "5ccddf9a",
   "metadata": {},
   "outputs": [],
   "source": [
    "# visit page with optionable stocks\n",
    "url = 'https://www.poweropt.com/optionable.asp?fl=A'\n",
    "browser.visit(url)"
   ]
  },
  {
   "cell_type": "code",
   "execution_count": 65,
   "id": "b28b8ece",
   "metadata": {},
   "outputs": [],
   "source": [
    "#iterates to gather tickers for stocks that have options\n",
    "\n",
    "tickers = {'Tickers': []}\n",
    "\n",
    "for page in range(25):\n",
    "    \n",
    "    page += 2\n",
    "    \n",
    "    for i in range(pages + 1):\n",
    "\n",
    "        browser.find_by_name('example_length').click()\n",
    "\n",
    "        browser.find_by_text('100').click()\n",
    "\n",
    "        html = browser.html\n",
    "        test = soup(html, 'html.parser')\n",
    "\n",
    "        for i in test.find(id='example').find('tbody').find_all('tr'):\n",
    "            tickers['Tickers'].append(i.find('h6').get_text().split(')')[0].split('(')[1])\n",
    "            \n",
    "        browser.find_by_id('example_next').click()\n",
    "        \n",
    "    browser.find_by_xpath(f'/html/body/div[2]/div/h5[2]/a[{page}]').click()"
   ]
  },
  {
   "cell_type": "code",
   "execution_count": 71,
   "id": "f4357e05",
   "metadata": {},
   "outputs": [],
   "source": [
    "pd.DataFrame.from_dict(tickers, orient='columns').to_csv('Stocks.csv')"
   ]
  },
  {
   "cell_type": "code",
   "execution_count": 70,
   "id": "b85019ae",
   "metadata": {},
   "outputs": [],
   "source": [
    "browser.quit()"
   ]
  }
 ],
 "metadata": {
  "kernelspec": {
   "display_name": "PythonData",
   "language": "python",
   "name": "pythondata"
  },
  "language_info": {
   "codemirror_mode": {
    "name": "ipython",
    "version": 3
   },
   "file_extension": ".py",
   "mimetype": "text/x-python",
   "name": "python",
   "nbconvert_exporter": "python",
   "pygments_lexer": "ipython3",
   "version": "3.9.7"
  }
 },
 "nbformat": 4,
 "nbformat_minor": 5
}
